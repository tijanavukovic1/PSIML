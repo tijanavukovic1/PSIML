{
  "nbformat": 4,
  "nbformat_minor": 0,
  "metadata": {
    "colab": {
      "name": "klasifikacija.ipynb",
      "provenance": [],
      "collapsed_sections": [],
      "include_colab_link": true
    },
    "kernelspec": {
      "name": "python3",
      "display_name": "Python 3"
    },
    "accelerator": "GPU"
  },
  "cells": [
    {
      "cell_type": "markdown",
      "metadata": {
        "id": "view-in-github",
        "colab_type": "text"
      },
      "source": [
        "<a href=\"https://colab.research.google.com/github/tijanavukovic1/Realistic-Image-Generation/blob/master/klasifikacija.ipynb\" target=\"_parent\"><img src=\"https://colab.research.google.com/assets/colab-badge.svg\" alt=\"Open In Colab\"/></a>"
      ]
    },
    {
      "cell_type": "code",
      "metadata": {
        "id": "sqK_ukX6_Z3Y",
        "colab_type": "code",
        "colab": {
          "base_uri": "https://localhost:8080/",
          "height": 128
        },
        "outputId": "83c68488-7e6b-4aa0-9a66-dcc84da9f099"
      },
      "source": [
        "from google.colab import drive\n",
        "drive.mount('/content/gdrive')"
      ],
      "execution_count": null,
      "outputs": [
        {
          "output_type": "stream",
          "text": [
            "Go to this URL in a browser: https://accounts.google.com/o/oauth2/auth?client_id=947318989803-6bn6qk8qdgf4n4g3pfee6491hc0brc4i.apps.googleusercontent.com&redirect_uri=urn%3aietf%3awg%3aoauth%3a2.0%3aoob&response_type=code&scope=email%20https%3a%2f%2fwww.googleapis.com%2fauth%2fdocs.test%20https%3a%2f%2fwww.googleapis.com%2fauth%2fdrive%20https%3a%2f%2fwww.googleapis.com%2fauth%2fdrive.photos.readonly%20https%3a%2f%2fwww.googleapis.com%2fauth%2fpeopleapi.readonly\n",
            "\n",
            "Enter your authorization code:\n",
            "··········\n",
            "Mounted at /content/gdrive\n"
          ],
          "name": "stdout"
        }
      ]
    },
    {
      "cell_type": "code",
      "metadata": {
        "id": "cKlageMc_1qm",
        "colab_type": "code",
        "colab": {
          "base_uri": "https://localhost:8080/",
          "height": 35
        },
        "outputId": "68133918-737c-4d74-f895-49b6177c04dd"
      },
      "source": [
        "%cd gdrive/My Drive/PSIML PROJEKAT/data-efficient-gans-master/DiffAugment-biggan-cifar"
      ],
      "execution_count": null,
      "outputs": [
        {
          "output_type": "stream",
          "text": [
            "/content/gdrive/My Drive/PSIML PROJEKAT/data-efficient-gans-master/DiffAugment-biggan-cifar\n"
          ],
          "name": "stdout"
        }
      ]
    },
    {
      "cell_type": "code",
      "metadata": {
        "id": "uITYI7g78WB-",
        "colab_type": "code",
        "colab": {}
      },
      "source": [
        "import torch\n",
        "import torchvision\n",
        "import torchvision.transforms as transforms"
      ],
      "execution_count": null,
      "outputs": []
    },
    {
      "cell_type": "code",
      "metadata": {
        "id": "tKqE-9Gz8euS",
        "colab_type": "code",
        "colab": {}
      },
      "source": [
        "transform = transforms.Compose([\n",
        "    transforms.Resize(256),\n",
        "    transforms.ToTensor(),\n",
        "    transforms.Normalize(mean=[0.485, 0.456, 0.406], std=[0.229, 0.224, 0.225]),\n",
        "])"
      ],
      "execution_count": null,
      "outputs": []
    },
    {
      "cell_type": "code",
      "metadata": {
        "id": "lrozoH9V9FiU",
        "colab_type": "code",
        "colab": {}
      },
      "source": [
        "# Loading training data\n",
        "train_data = torchvision.datasets.ImageFolder(root='data/baza_200+4000vestackih', transform=transform)\n",
        "\n",
        "train_loader = torch.utils.data.DataLoader(train_data, batch_size=5, shuffle=True, num_workers=4)\n",
        "\n",
        "# Loading validation data\n",
        "validation_data = torchvision.datasets.ImageFolder(root='data/val', transform=transform)\n",
        "\n",
        "validation_loader = torch.utils.data.DataLoader(validation_data, batch_size=20, shuffle=False, num_workers=4)\n",
        "\n",
        "# Loading test data \n",
        "\n",
        "test_data = torchvision.datasets.ImageFolder(root='data/test', transform=transform)\n",
        "\n",
        "test_loader = torch.utils.data.DataLoader(test_data, batch_size=20\n",
        "                                          , shuffle=False, num_workers=4)\n",
        "\n",
        "#Class labels\n",
        "\n",
        "classes = ('cat','dog','wild')\n"
      ],
      "execution_count": null,
      "outputs": []
    },
    {
      "cell_type": "code",
      "metadata": {
        "id": "O2zITcav-v2C",
        "colab_type": "code",
        "colab": {
          "base_uri": "https://localhost:8080/",
          "height": 155
        },
        "outputId": "cb53d704-6b87-4a38-bce7-ec157cad951f"
      },
      "source": [
        "import matplotlib.pyplot as plt\n",
        "import numpy as np\n",
        "\n",
        "#Function to show some random images\n",
        "def imshow(img):\n",
        "    img = img / 2 + 0.5     # unnormalize\n",
        "    npimg = img.numpy()\n",
        "    plt.imshow(np.transpose(npimg, (1, 2, 0)))\n",
        "    plt.show()\n",
        "\n",
        "#Get some random training images\n",
        "dataiter = iter(train_loader)\n",
        "images, labels = dataiter.next()\n",
        "\n",
        "#Show images\n",
        "imshow(torchvision.utils.make_grid(images))\n",
        "# print labels\n",
        "print(' '.join('%5s' % classes[labels[j]] for j in range(3)))"
      ],
      "execution_count": null,
      "outputs": [
        {
          "output_type": "stream",
          "text": [
            "Clipping input data to the valid range for imshow with RGB data ([0..1] for floats or [0..255] for integers).\n"
          ],
          "name": "stderr"
        },
        {
          "output_type": "display_data",
          "data": {
            "image/png": "[encoded data removed]",
            "text/plain": [
              "<Figure size 432x288 with 1 Axes>"
            ]
          },
          "metadata": {
            "tags": [],
            "needs_background": "light"
          }
        },
        {
          "output_type": "stream",
          "text": [
            "  cat   cat   cat\n"
          ],
          "name": "stdout"
        }
      ]
    },
    {
      "cell_type": "code",
      "metadata": {
        "id": "dE0c25Q--1Bb",
        "colab_type": "code",
        "colab": {
          "base_uri": "https://localhost:8080/",
          "height": 526
        },
        "outputId": "422a85b9-ab87-4a2b-e3a6-620362838b4a"
      },
      "source": [
        "#Now using the AlexNet\n",
        "AlexNet_model = torch.hub.load('pytorch/vision:v0.6.0', 'alexnet', pretrained=False)\n",
        "\n",
        "#Model description\n",
        "AlexNet_model.eval()\n"
      ],
      "execution_count": null,
      "outputs": [
        {
          "output_type": "stream",
          "text": [
            "Using cache found in /root/.cache/torch/hub/pytorch_vision_v0.6.0\n"
          ],
          "name": "stderr"
        },
        {
          "output_type": "execute_result",
          "data": {
            "text/plain": [
              "AlexNet(\n",
              "  (features): Sequential(\n",
              "    (0): Conv2d(3, 64, kernel_size=(11, 11), stride=(4, 4), padding=(2, 2))\n",
              "    (1): ReLU(inplace=True)\n",
              "    (2): MaxPool2d(kernel_size=3, stride=2, padding=0, dilation=1, ceil_mode=False)\n",
              "    (3): Conv2d(64, 192, kernel_size=(5, 5), stride=(1, 1), padding=(2, 2))\n",
              "    (4): ReLU(inplace=True)\n",
              "    (5): MaxPool2d(kernel_size=3, stride=2, padding=0, dilation=1, ceil_mode=False)\n",
              "    (6): Conv2d(192, 384, kernel_size=(3, 3), stride=(1, 1), padding=(1, 1))\n",
              "    (7): ReLU(inplace=True)\n",
              "    (8): Conv2d(384, 256, kernel_size=(3, 3), stride=(1, 1), padding=(1, 1))\n",
              "    (9): ReLU(inplace=True)\n",
              "    (10): Conv2d(256, 256, kernel_size=(3, 3), stride=(1, 1), padding=(1, 1))\n",
              "    (11): ReLU(inplace=True)\n",
              "    (12): MaxPool2d(kernel_size=3, stride=2, padding=0, dilation=1, ceil_mode=False)\n",
              "  )\n",
              "  (avgpool): AdaptiveAvgPool2d(output_size=(6, 6))\n",
              "  (classifier): Sequential(\n",
              "    (0): Dropout(p=0.5, inplace=False)\n",
              "    (1): Linear(in_features=9216, out_features=4096, bias=True)\n",
              "    (2): ReLU(inplace=True)\n",
              "    (3): Dropout(p=0.5, inplace=False)\n",
              "    (4): Linear(in_features=4096, out_features=4096, bias=True)\n",
              "    (5): ReLU(inplace=True)\n",
              "    (6): Linear(in_features=4096, out_features=1000, bias=True)\n",
              "  )\n",
              ")"
            ]
          },
          "metadata": {
            "tags": []
          },
          "execution_count": 19
        }
      ]
    },
    {
      "cell_type": "code",
      "metadata": {
        "id": "PnLzyMe2-6XI",
        "colab_type": "code",
        "colab": {}
      },
      "source": [
        "#Updating the second classifier\n",
        "import torch\n",
        "import torch.nn as nn\n",
        "AlexNet_model.classifier[4] = nn.Linear(4096,1024)\n",
        "\n",
        "#Updating the third and the last classifier that is the output layer of the network. Make sure to have 10 output nodes if we are going to get 10 class labels through our model.\n",
        "AlexNet_model.classifier[6] = nn.Linear(1024,3)"
      ],
      "execution_count": null,
      "outputs": []
    },
    {
      "cell_type": "code",
      "metadata": {
        "id": "j98h_1aF-9wH",
        "colab_type": "code",
        "colab": {
          "base_uri": "https://localhost:8080/",
          "height": 508
        },
        "outputId": "2ae49737-ddd9-4574-caf9-77b3469705ef"
      },
      "source": [
        "AlexNet_model.eval()\n"
      ],
      "execution_count": null,
      "outputs": [
        {
          "output_type": "execute_result",
          "data": {
            "text/plain": [
              "AlexNet(\n",
              "  (features): Sequential(\n",
              "    (0): Conv2d(3, 64, kernel_size=(11, 11), stride=(4, 4), padding=(2, 2))\n",
              "    (1): ReLU(inplace=True)\n",
              "    (2): MaxPool2d(kernel_size=3, stride=2, padding=0, dilation=1, ceil_mode=False)\n",
              "    (3): Conv2d(64, 192, kernel_size=(5, 5), stride=(1, 1), padding=(2, 2))\n",
              "    (4): ReLU(inplace=True)\n",
              "    (5): MaxPool2d(kernel_size=3, stride=2, padding=0, dilation=1, ceil_mode=False)\n",
              "    (6): Conv2d(192, 384, kernel_size=(3, 3), stride=(1, 1), padding=(1, 1))\n",
              "    (7): ReLU(inplace=True)\n",
              "    (8): Conv2d(384, 256, kernel_size=(3, 3), stride=(1, 1), padding=(1, 1))\n",
              "    (9): ReLU(inplace=True)\n",
              "    (10): Conv2d(256, 256, kernel_size=(3, 3), stride=(1, 1), padding=(1, 1))\n",
              "    (11): ReLU(inplace=True)\n",
              "    (12): MaxPool2d(kernel_size=3, stride=2, padding=0, dilation=1, ceil_mode=False)\n",
              "  )\n",
              "  (avgpool): AdaptiveAvgPool2d(output_size=(6, 6))\n",
              "  (classifier): Sequential(\n",
              "    (0): Dropout(p=0.5, inplace=False)\n",
              "    (1): Linear(in_features=9216, out_features=4096, bias=True)\n",
              "    (2): ReLU(inplace=True)\n",
              "    (3): Dropout(p=0.5, inplace=False)\n",
              "    (4): Linear(in_features=4096, out_features=1024, bias=True)\n",
              "    (5): ReLU(inplace=True)\n",
              "    (6): Linear(in_features=1024, out_features=3, bias=True)\n",
              "  )\n",
              ")"
            ]
          },
          "metadata": {
            "tags": []
          },
          "execution_count": 21
        }
      ]
    },
    {
      "cell_type": "code",
      "metadata": {
        "id": "Qp_yDtsw_AQU",
        "colab_type": "code",
        "colab": {
          "base_uri": "https://localhost:8080/",
          "height": 526
        },
        "outputId": "abcaba7e-5e58-4d0a-9c61-213c0fab6e16"
      },
      "source": [
        "#Instantiating CUDA device\n",
        "device = torch.device(\"cuda:0\" if torch.cuda.is_available() else \"cpu\")\n",
        "\n",
        "#Verifying CUDA\n",
        "print(device)\n",
        "\n",
        "#Move the input and AlexNet_model to GPU for speed if available\n",
        "AlexNet_model.to(device)\n"
      ],
      "execution_count": null,
      "outputs": [
        {
          "output_type": "stream",
          "text": [
            "cuda:0\n"
          ],
          "name": "stdout"
        },
        {
          "output_type": "execute_result",
          "data": {
            "text/plain": [
              "AlexNet(\n",
              "  (features): Sequential(\n",
              "    (0): Conv2d(3, 64, kernel_size=(11, 11), stride=(4, 4), padding=(2, 2))\n",
              "    (1): ReLU(inplace=True)\n",
              "    (2): MaxPool2d(kernel_size=3, stride=2, padding=0, dilation=1, ceil_mode=False)\n",
              "    (3): Conv2d(64, 192, kernel_size=(5, 5), stride=(1, 1), padding=(2, 2))\n",
              "    (4): ReLU(inplace=True)\n",
              "    (5): MaxPool2d(kernel_size=3, stride=2, padding=0, dilation=1, ceil_mode=False)\n",
              "    (6): Conv2d(192, 384, kernel_size=(3, 3), stride=(1, 1), padding=(1, 1))\n",
              "    (7): ReLU(inplace=True)\n",
              "    (8): Conv2d(384, 256, kernel_size=(3, 3), stride=(1, 1), padding=(1, 1))\n",
              "    (9): ReLU(inplace=True)\n",
              "    (10): Conv2d(256, 256, kernel_size=(3, 3), stride=(1, 1), padding=(1, 1))\n",
              "    (11): ReLU(inplace=True)\n",
              "    (12): MaxPool2d(kernel_size=3, stride=2, padding=0, dilation=1, ceil_mode=False)\n",
              "  )\n",
              "  (avgpool): AdaptiveAvgPool2d(output_size=(6, 6))\n",
              "  (classifier): Sequential(\n",
              "    (0): Dropout(p=0.5, inplace=False)\n",
              "    (1): Linear(in_features=9216, out_features=4096, bias=True)\n",
              "    (2): ReLU(inplace=True)\n",
              "    (3): Dropout(p=0.5, inplace=False)\n",
              "    (4): Linear(in_features=4096, out_features=1024, bias=True)\n",
              "    (5): ReLU(inplace=True)\n",
              "    (6): Linear(in_features=1024, out_features=3, bias=True)\n",
              "  )\n",
              ")"
            ]
          },
          "metadata": {
            "tags": []
          },
          "execution_count": 22
        }
      ]
    },
    {
      "cell_type": "code",
      "metadata": {
        "id": "2ZD71RJs_DGq",
        "colab_type": "code",
        "colab": {}
      },
      "source": [
        "import torch.optim as optim\n",
        "import torch.nn as nn\n",
        "\n",
        "#Loss\n",
        "criterion = nn.CrossEntropyLoss()\n",
        "\n",
        "#Optimizer(SGD)\n",
        "optimizer = optim.SGD(AlexNet_model.parameters(), lr=0.001, momentum=0.9)"
      ],
      "execution_count": null,
      "outputs": []
    },
    {
      "cell_type": "code",
      "metadata": {
        "id": "QDrekCN2_Ged",
        "colab_type": "code",
        "colab": {
          "base_uri": "https://localhost:8080/",
          "height": 890
        },
        "outputId": "d9626e8e-884b-49bb-ccfa-7f6c3e3c9df9"
      },
      "source": [
        "Number_of_epochs=200\n",
        "patience=5\n",
        "previous_val_loss=0\n",
        "for epoch in range(Number_of_epochs):  # loop over the dataset multiple times\n",
        "    if patience==0:\n",
        "      print('Early stopping')\n",
        "      break\n",
        "    \n",
        "    running_loss = 0.0\n",
        "    total=0\n",
        "    for i, data in enumerate(train_loader, 0):\n",
        "        # get the inputs; data is a list of [inputs, labels]\n",
        "        inputs, labels = data[0].to(device), data[1].to(device)\n",
        "\n",
        "        # zero the parameter gradients\n",
        "        optimizer.zero_grad()\n",
        "        total += labels.size(0)\n",
        "        # forward + backward + optimize\n",
        "        output = AlexNet_model(inputs)\n",
        "        loss = criterion(output, labels)\n",
        "        loss.backward()\n",
        "        optimizer.step()\n",
        "\n",
        "        # print statistics\n",
        "        running_loss += loss.item()\n",
        "    print('Epoch: ',epoch,' Train loss:' ,running_loss/total)  \n",
        "    correct = 0\n",
        "    total = 0\n",
        "    total_val_loss=0\n",
        "    with torch.no_grad():\n",
        "      for _,data in enumerate(validation_loader,0):\n",
        "        images, labels = data[0].to(device),data[1].to(device)\n",
        "        outputs = AlexNet_model(images)\n",
        "        validation_loss=criterion(outputs, labels)\n",
        "        _, predicted = torch.max(outputs.data, 1)\n",
        "        total += labels.size(0)\n",
        "        correct += (predicted == labels).sum().item()\n",
        "        total_val_loss+=validation_loss.item()\n",
        "    print('Epoch: ',epoch,' Validation accuracy:',correct/total*100,' Validation_loss: ',total_val_loss/total)\n",
        "    if  previous_val_loss<total_val_loss:\n",
        "      patience-=1\n",
        "    else:\n",
        "      patience=5\n",
        "    previous_val_loss=total_val_loss\n",
        "\n",
        "\n",
        "print('Finished Training of AlexNet')"
      ],
      "execution_count": null,
      "outputs": [
        {
          "output_type": "stream",
          "text": [
            "Epoch:  0  Train loss: 0.059528841301283615\n",
            "Epoch:  0  Validation accuracy: 77.83333333333333  Validation_loss:  0.0304072409371535\n",
            "Epoch:  1  Train loss: 0.006116762340848013\n",
            "Epoch:  1  Validation accuracy: 81.66666666666667  Validation_loss:  0.029761904136588177\n",
            "Epoch:  2  Train loss: 0.004301959398742228\n",
            "Epoch:  2  Validation accuracy: 83.33333333333334  Validation_loss:  0.02211395851025979\n",
            "Epoch:  3  Train loss: 0.0033277291856885056\n",
            "Epoch:  3  Validation accuracy: 84.5  Validation_loss:  0.020749617318312326\n",
            "Epoch:  4  Train loss: 0.0026942834810197796\n",
            "Epoch:  4  Validation accuracy: 85.33333333333334  Validation_loss:  0.02120285869576037\n",
            "Epoch:  5  Train loss: 0.001854057994044678\n",
            "Epoch:  5  Validation accuracy: 86.5  Validation_loss:  0.023169738625486692\n",
            "Epoch:  6  Train loss: 0.0018218976128959192\n",
            "Epoch:  6  Validation accuracy: 86.0  Validation_loss:  0.01803691449264685\n",
            "Epoch:  7  Train loss: 0.0015268081345730384\n",
            "Epoch:  7  Validation accuracy: 86.66666666666667  Validation_loss:  0.01632213683022807\n",
            "Epoch:  8  Train loss: 0.0010447254373313869\n",
            "Epoch:  8  Validation accuracy: 87.5  Validation_loss:  0.015857303539911907\n",
            "Epoch:  9  Train loss: 0.001009240233282973\n",
            "Epoch:  9  Validation accuracy: 87.83333333333333  Validation_loss:  0.02049832746696969\n",
            "Epoch:  10  Train loss: 0.0015513083641925632\n",
            "Epoch:  10  Validation accuracy: 86.5  Validation_loss:  0.022674016722788414\n",
            "Epoch:  11  Train loss: 0.0008440231575767415\n",
            "Epoch:  11  Validation accuracy: 86.33333333333333  Validation_loss:  0.02393838918612649\n",
            "Epoch:  12  Train loss: 0.00031356860460102464\n",
            "Epoch:  12  Validation accuracy: 88.33333333333333  Validation_loss:  0.022342047022345164\n",
            "Epoch:  13  Train loss: 0.0003225827701792702\n",
            "Epoch:  13  Validation accuracy: 89.33333333333333  Validation_loss:  0.021455527192835385\n",
            "Epoch:  14  Train loss: 0.0007507653256886925\n",
            "Epoch:  14  Validation accuracy: 89.0  Validation_loss:  0.019028131095692517\n",
            "Epoch:  15  Train loss: 0.0001127115514730461\n",
            "Epoch:  15  Validation accuracy: 89.5  Validation_loss:  0.02044963990842613\n",
            "Epoch:  16  Train loss: 2.8242219117786224e-05\n",
            "Epoch:  16  Validation accuracy: 89.0  Validation_loss:  0.024133770310630402\n",
            "Epoch:  17  Train loss: 1.3685012861709104e-05\n",
            "Epoch:  17  Validation accuracy: 89.0  Validation_loss:  0.023734392425976695\n",
            "Epoch:  18  Train loss: 7.553690187112158e-06\n",
            "Epoch:  18  Validation accuracy: 89.5  Validation_loss:  0.024714313589502126\n",
            "Epoch:  19  Train loss: 5.600091364843908e-06\n",
            "Epoch:  19  Validation accuracy: 89.16666666666667  Validation_loss:  0.02557829688380783\n",
            "Epoch:  20  Train loss: 4.373442587842377e-06\n",
            "Epoch:  20  Validation accuracy: 89.33333333333333  Validation_loss:  0.02626765420932012\n",
            "Epoch:  21  Train loss: 3.5813230009996542e-06\n",
            "Epoch:  21  Validation accuracy: 89.33333333333333  Validation_loss:  0.026685718684263216\n",
            "Epoch:  22  Train loss: 3.0437144718552833e-06\n",
            "Epoch:  22  Validation accuracy: 89.33333333333333  Validation_loss:  0.027184469878169085\n",
            "Early stopping\n",
            "Finished Training of AlexNet\n"
          ],
          "name": "stdout"
        }
      ]
    },
    {
      "cell_type": "code",
      "metadata": {
        "id": "z-Hch4OI_MUO",
        "colab_type": "code",
        "colab": {
          "base_uri": "https://localhost:8080/",
          "height": 90
        },
        "outputId": "bd2ae758-5f53-42a1-bf2f-478edd676a7d"
      },
      "source": [
        "import sklearn\n",
        "import sklearn.metrics\n",
        "#Testing Accuracy\n",
        "correct = 0\n",
        "total = 0\n",
        "predicted_array=np.array([])\n",
        "label_array=np.array([])\n",
        "with torch.no_grad():\n",
        "    for data in test_loader:\n",
        "        images, labels = data[0].to(device), data[1].to(device)\n",
        "        outputs = AlexNet_model(images)\n",
        "        _, predicted = torch.max(outputs.data, 1)\n",
        "        total += labels.size(0)\n",
        "        correct += (predicted == labels).sum().item()\n",
        "        predicted_array=np.append(predicted_array,predicted.cpu().numpy())\n",
        "        label_array=np.append(label_array,labels.cpu().numpy())\n",
        "\n",
        "\n",
        "print('Accuracy of the network on the test images: %d %%' % (\n",
        "    100 * correct / total))\n",
        "sklearn.metrics.confusion_matrix(predicted_array, label_array)"
      ],
      "execution_count": null,
      "outputs": [
        {
          "output_type": "stream",
          "text": [
            "Accuracy of the network on the test images: 87 %\n"
          ],
          "name": "stdout"
        },
        {
          "output_type": "execute_result",
          "data": {
            "text/plain": [
              "array([[887,  62,  65],\n",
              "       [ 72, 886,  96],\n",
              "       [ 41,  52, 839]])"
            ]
          },
          "metadata": {
            "tags": []
          },
          "execution_count": 13
        }
      ]
    },
    {
      "cell_type": "code",
      "metadata": {
        "id": "9ObOESZvfvGG",
        "colab_type": "code",
        "colab": {
          "base_uri": "https://localhost:8080/",
          "height": 72
        },
        "outputId": "fbcc3804-dd2b-4352-f4cf-b3371d31570e"
      },
      "source": [
        "import sklearn.metrics\n",
        "sklearn.metrics.confusion_matrix(predicted_array, label_array)"
      ],
      "execution_count": null,
      "outputs": [
        {
          "output_type": "execute_result",
          "data": {
            "text/plain": [
              "array([[887,  62,  65],\n",
              "       [ 72, 886,  96],\n",
              "       [ 41,  52, 839]])"
            ]
          },
          "metadata": {
            "tags": []
          },
          "execution_count": 14
        }
      ]
    },
    {
      "cell_type": "code",
      "metadata": {
        "id": "GJ9Pqsjc_PzA",
        "colab_type": "code",
        "colab": {
          "base_uri": "https://localhost:8080/",
          "height": 72
        },
        "outputId": "52e97982-03cc-491a-f1dd-20f0e8195edc"
      },
      "source": [
        "#Testing classification accuracy for individual classes.\n",
        "class_correct = list(0. for i in range(10))\n",
        "class_total = list(0. for i in range(10))\n",
        "with torch.no_grad():\n",
        "    for data in test_loader:\n",
        "        images, labels = data[0].to(device), data[1].to(device)\n",
        "        outputs = AlexNet_model(images)\n",
        "        _, predicted = torch.max(outputs, 1)\n",
        "        c = (predicted == labels).squeeze()\n",
        "        for i in range(2):\n",
        "            label = labels[i]\n",
        "            class_correct[label] += c[i].item()\n",
        "            class_total[label] += 1\n",
        "\n",
        "for i in range(3):\n",
        "    print('Accuracy of %5s : %2d %%' % (\n",
        "        classes[i], 100 * class_correct[i] / class_total[i]))"
      ],
      "execution_count": null,
      "outputs": [
        {
          "output_type": "stream",
          "text": [
            "Accuracy of   cat : 87 %\n",
            "Accuracy of   dog : 93 %\n",
            "Accuracy of  wild : 84 %\n"
          ],
          "name": "stdout"
        }
      ]
    },
    {
      "cell_type": "code",
      "metadata": {
        "id": "RLyptUwR_TCm",
        "colab_type": "code",
        "colab": {
          "base_uri": "https://localhost:8080/",
          "height": 35
        },
        "outputId": "976fe61b-9d4a-47e3-c9d1-1e5fbce8be93"
      },
      "source": [
        "avg = 0\n",
        "for i in range(3):\n",
        "  temp = (100 * class_correct[i] / class_total[i])\n",
        "  avg = avg + temp\n",
        "avg = avg/3\n",
        "print('Average accuracy = ', avg)\n"
      ],
      "execution_count": null,
      "outputs": [
        {
          "output_type": "stream",
          "text": [
            "Average accuracy =  88.0\n"
          ],
          "name": "stdout"
        }
      ]
    },
    {
      "cell_type": "code",
      "metadata": {
        "id": "eRW0txkm-r-G",
        "colab_type": "code",
        "colab": {}
      },
      "source": [
        ""
      ],
      "execution_count": null,
      "outputs": []
    }
  ]
}