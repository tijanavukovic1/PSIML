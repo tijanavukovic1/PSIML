{
  "nbformat": 4,
  "nbformat_minor": 0,
  "metadata": {
    "colab": {
      "name": "Alex Net from github.ipynb",
      "provenance": [],
      "collapsed_sections": [],
      "include_colab_link": true
    },
    "kernelspec": {
      "name": "python3",
      "display_name": "Python 3"
    }
  },
  "cells": [
    {
      "cell_type": "markdown",
      "metadata": {
        "id": "view-in-github",
        "colab_type": "text"
      },
      "source": [
        "<a href=\"https://colab.research.google.com/github/tijanavukovic1/Realistic-Image-Generation/blob/master/Alex_Net_from_github.ipynb\" target=\"_parent\"><img src=\"https://colab.research.google.com/assets/colab-badge.svg\" alt=\"Open In Colab\"/></a>"
      ]
    },
    {
      "cell_type": "code",
      "metadata": {
        "id": "BKfHfSUNAXj2",
        "colab_type": "code",
        "colab": {
          "base_uri": "https://localhost:8080/",
          "height": 108
        },
        "outputId": "689479f0-2f4d-471c-cc6c-3f0ebf124936"
      },
      "source": [
        "! git clone https://github.com/dansuh17/alexnet-pytorch"
      ],
      "execution_count": null,
      "outputs": [
        {
          "output_type": "stream",
          "text": [
            "Cloning into 'alexnet-pytorch'...\n",
            "remote: Enumerating objects: 106, done.\u001b[K\n",
            "remote: Total 106 (delta 0), reused 0 (delta 0), pack-reused 106\u001b[K\n",
            "Receiving objects: 100% (106/106), 2.05 MiB | 1.64 MiB/s, done.\n",
            "Resolving deltas: 100% (50/50), done.\n"
          ],
          "name": "stdout"
        }
      ]
    },
    {
      "cell_type": "code",
      "metadata": {
        "id": "-AkpovLCBB_g",
        "colab_type": "code",
        "colab": {
          "base_uri": "https://localhost:8080/",
          "height": 201
        },
        "outputId": "ba3379d9-3aed-4443-edb0-dbd8d7175dbd"
      },
      "source": [
        "!pip install tensorboardX"
      ],
      "execution_count": null,
      "outputs": [
        {
          "output_type": "stream",
          "text": [
            "Collecting tensorboardX\n",
            "\u001b[?25l  Downloading https://files.pythonhosted.org/packages/af/0c/4f41bcd45db376e6fe5c619c01100e9b7531c55791b7244815bac6eac32c/tensorboardX-2.1-py2.py3-none-any.whl (308kB)\n",
            "\r\u001b[K     |█                               | 10kB 16.3MB/s eta 0:00:01\r\u001b[K     |██▏                             | 20kB 1.6MB/s eta 0:00:01\r\u001b[K     |███▏                            | 30kB 2.1MB/s eta 0:00:01\r\u001b[K     |████▎                           | 40kB 2.4MB/s eta 0:00:01\r\u001b[K     |█████▎                          | 51kB 1.9MB/s eta 0:00:01\r\u001b[K     |██████▍                         | 61kB 2.1MB/s eta 0:00:01\r\u001b[K     |███████▍                        | 71kB 2.3MB/s eta 0:00:01\r\u001b[K     |████████▌                       | 81kB 2.5MB/s eta 0:00:01\r\u001b[K     |█████████▌                      | 92kB 2.7MB/s eta 0:00:01\r\u001b[K     |██████████▋                     | 102kB 2.6MB/s eta 0:00:01\r\u001b[K     |███████████▊                    | 112kB 2.6MB/s eta 0:00:01\r\u001b[K     |████████████▊                   | 122kB 2.6MB/s eta 0:00:01\r\u001b[K     |█████████████▉                  | 133kB 2.6MB/s eta 0:00:01\r\u001b[K     |██████████████▉                 | 143kB 2.6MB/s eta 0:00:01\r\u001b[K     |████████████████                | 153kB 2.6MB/s eta 0:00:01\r\u001b[K     |█████████████████               | 163kB 2.6MB/s eta 0:00:01\r\u001b[K     |██████████████████              | 174kB 2.6MB/s eta 0:00:01\r\u001b[K     |███████████████████             | 184kB 2.6MB/s eta 0:00:01\r\u001b[K     |████████████████████▏           | 194kB 2.6MB/s eta 0:00:01\r\u001b[K     |█████████████████████▎          | 204kB 2.6MB/s eta 0:00:01\r\u001b[K     |██████████████████████▎         | 215kB 2.6MB/s eta 0:00:01\r\u001b[K     |███████████████████████▍        | 225kB 2.6MB/s eta 0:00:01\r\u001b[K     |████████████████████████▍       | 235kB 2.6MB/s eta 0:00:01\r\u001b[K     |█████████████████████████▌      | 245kB 2.6MB/s eta 0:00:01\r\u001b[K     |██████████████████████████▌     | 256kB 2.6MB/s eta 0:00:01\r\u001b[K     |███████████████████████████▋    | 266kB 2.6MB/s eta 0:00:01\r\u001b[K     |████████████████████████████▋   | 276kB 2.6MB/s eta 0:00:01\r\u001b[K     |█████████████████████████████▊  | 286kB 2.6MB/s eta 0:00:01\r\u001b[K     |██████████████████████████████▊ | 296kB 2.6MB/s eta 0:00:01\r\u001b[K     |███████████████████████████████▉| 307kB 2.6MB/s eta 0:00:01\r\u001b[K     |████████████████████████████████| 317kB 2.6MB/s \n",
            "\u001b[?25hRequirement already satisfied: numpy in /usr/local/lib/python3.6/dist-packages (from tensorboardX) (1.18.5)\n",
            "Requirement already satisfied: six in /usr/local/lib/python3.6/dist-packages (from tensorboardX) (1.15.0)\n",
            "Requirement already satisfied: protobuf>=3.8.0 in /usr/local/lib/python3.6/dist-packages (from tensorboardX) (3.12.4)\n",
            "Requirement already satisfied: setuptools in /usr/local/lib/python3.6/dist-packages (from protobuf>=3.8.0->tensorboardX) (49.2.0)\n",
            "Installing collected packages: tensorboardX\n",
            "Successfully installed tensorboardX-2.1\n"
          ],
          "name": "stdout"
        }
      ]
    },
    {
      "cell_type": "code",
      "metadata": {
        "id": "nx6u33W-BKq7",
        "colab_type": "code",
        "colab": {
          "base_uri": "https://localhost:8080/",
          "height": 128
        },
        "outputId": "fe455b51-a852-455f-c41f-77f32dff9f99"
      },
      "source": [
        "from google.colab import drive\n",
        "drive.mount('/content/gdrive')"
      ],
      "execution_count": null,
      "outputs": [
        {
          "output_type": "stream",
          "text": [
            "Go to this URL in a browser: https://accounts.google.com/o/oauth2/auth?client_id=947318989803-6bn6qk8qdgf4n4g3pfee6491hc0brc4i.apps.googleusercontent.com&redirect_uri=urn%3aietf%3awg%3aoauth%3a2.0%3aoob&response_type=code&scope=email%20https%3a%2f%2fwww.googleapis.com%2fauth%2fdocs.test%20https%3a%2f%2fwww.googleapis.com%2fauth%2fdrive%20https%3a%2f%2fwww.googleapis.com%2fauth%2fdrive.photos.readonly%20https%3a%2f%2fwww.googleapis.com%2fauth%2fpeopleapi.readonly\n",
            "\n",
            "Enter your authorization code:\n",
            "··········\n",
            "Mounted at /content/gdrive\n"
          ],
          "name": "stdout"
        }
      ]
    },
    {
      "cell_type": "code",
      "metadata": {
        "id": "97QvX8EaAxfZ",
        "colab_type": "code",
        "colab": {
          "base_uri": "https://localhost:8080/",
          "height": 1000
        },
        "outputId": "fd2c5137-a695-4f3f-93f0-f3477c5be60d"
      },
      "source": [
        "!python3 alexnet-pytorch/model.py"
      ],
      "execution_count": null,
      "outputs": [
        {
          "output_type": "stream",
          "text": [
            "Used seed : 2870282433790379126\n",
            "TensorboardX summary writer created\n",
            "DataParallel(\n",
            "  (module): AlexNet(\n",
            "    (net): Sequential(\n",
            "      (0): Conv2d(3, 96, kernel_size=(11, 11), stride=(4, 4))\n",
            "      (1): ReLU()\n",
            "      (2): LocalResponseNorm(5, alpha=0.0001, beta=0.75, k=2)\n",
            "      (3): MaxPool2d(kernel_size=3, stride=2, padding=0, dilation=1, ceil_mode=False)\n",
            "      (4): Conv2d(96, 256, kernel_size=(5, 5), stride=(1, 1), padding=(2, 2))\n",
            "      (5): ReLU()\n",
            "      (6): LocalResponseNorm(5, alpha=0.0001, beta=0.75, k=2)\n",
            "      (7): MaxPool2d(kernel_size=3, stride=2, padding=0, dilation=1, ceil_mode=False)\n",
            "      (8): Conv2d(256, 384, kernel_size=(3, 3), stride=(1, 1), padding=(1, 1))\n",
            "      (9): ReLU()\n",
            "      (10): Conv2d(384, 384, kernel_size=(3, 3), stride=(1, 1), padding=(1, 1))\n",
            "      (11): ReLU()\n",
            "      (12): Conv2d(384, 256, kernel_size=(3, 3), stride=(1, 1), padding=(1, 1))\n",
            "      (13): ReLU()\n",
            "      (14): MaxPool2d(kernel_size=3, stride=2, padding=0, dilation=1, ceil_mode=False)\n",
            "    )\n",
            "    (classifier): Sequential(\n",
            "      (0): Dropout(p=0.5, inplace=True)\n",
            "      (1): Linear(in_features=9216, out_features=4096, bias=True)\n",
            "      (2): ReLU()\n",
            "      (3): Dropout(p=0.5, inplace=True)\n",
            "      (4): Linear(in_features=4096, out_features=4096, bias=True)\n",
            "      (5): ReLU()\n",
            "      (6): Linear(in_features=4096, out_features=3, bias=True)\n",
            "    )\n",
            "  )\n",
            ")\n",
            "AlexNet created\n",
            "Dataset created\n",
            "Dataloader created\n",
            "Optimizer created\n",
            "LR Scheduler created\n",
            "Starting training...\n",
            "/usr/local/lib/python3.6/dist-packages/torch/optim/lr_scheduler.py:123: UserWarning: Detected call of `lr_scheduler.step()` before `optimizer.step()`. In PyTorch 1.1.0 and later, you should call them in the opposite order: `optimizer.step()` before `lr_scheduler.step()`.  Failure to do this will result in PyTorch skipping the first value of the learning rate schedule. See more details at https://pytorch.org/docs/stable/optim.html#how-to-adjust-learning-rate\n",
            "  \"https://pytorch.org/docs/stable/optim.html#how-to-adjust-learning-rate\", UserWarning)\n",
            "Traceback (most recent call last):\n",
            "  File \"alexnet-pytorch/model.py\", line 164, in <module>\n",
            "    for imgs, classes in dataloader:\n",
            "  File \"/usr/local/lib/python3.6/dist-packages/torch/utils/data/dataloader.py\", line 363, in __next__\n",
            "    data = self._next_data()\n",
            "  File \"/usr/local/lib/python3.6/dist-packages/torch/utils/data/dataloader.py\", line 989, in _next_data\n",
            "    return self._process_data(data)\n",
            "  File \"/usr/local/lib/python3.6/dist-packages/torch/utils/data/dataloader.py\", line 1014, in _process_data\n",
            "    data.reraise()\n",
            "  File \"/usr/local/lib/python3.6/dist-packages/torch/_utils.py\", line 395, in reraise\n",
            "    raise self.exc_type(msg)\n",
            "TypeError: Caught TypeError in DataLoader worker process 0.\n",
            "Original Traceback (most recent call last):\n",
            "  File \"/usr/local/lib/python3.6/dist-packages/torch/utils/data/_utils/worker.py\", line 185, in _worker_loop\n",
            "    data = fetcher.fetch(index)\n",
            "  File \"/usr/local/lib/python3.6/dist-packages/torch/utils/data/_utils/fetch.py\", line 44, in fetch\n",
            "    data = [self.dataset[idx] for idx in possibly_batched_index]\n",
            "  File \"/usr/local/lib/python3.6/dist-packages/torch/utils/data/_utils/fetch.py\", line 44, in <listcomp>\n",
            "    data = [self.dataset[idx] for idx in possibly_batched_index]\n",
            "  File \"/usr/local/lib/python3.6/dist-packages/torchvision/datasets/folder.py\", line 139, in __getitem__\n",
            "    sample = self.transform(sample)\n",
            "  File \"/usr/local/lib/python3.6/dist-packages/torchvision/transforms/transforms.py\", line 61, in __call__\n",
            "    img = t(img)\n",
            "  File \"/usr/local/lib/python3.6/dist-packages/torchvision/transforms/transforms.py\", line 244, in __call__\n",
            "    return F.resize(img, self.size, self.interpolation)\n",
            "  File \"/usr/local/lib/python3.6/dist-packages/torchvision/transforms/functional.py\", line 319, in resize\n",
            "    raise TypeError('img should be PIL Image. Got {}'.format(type(img)))\n",
            "TypeError: img should be PIL Image. Got <class 'torch.Tensor'>\n",
            "\n"
          ],
          "name": "stdout"
        }
      ]
    }
  ]
}
