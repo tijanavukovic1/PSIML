{
  "nbformat": 4,
  "nbformat_minor": 0,
  "metadata": {
    "colab": {
      "name": "generisanje baze.ipynb",
      "provenance": [],
      "collapsed_sections": [],
      "authorship_tag": "ABX9TyP7JUuMRkdmG1uWicTP+GM7",
      "include_colab_link": true
    },
    "kernelspec": {
      "name": "python3",
      "display_name": "Python 3"
    }
  },
  "cells": [
    {
      "cell_type": "markdown",
      "metadata": {
        "id": "view-in-github",
        "colab_type": "text"
      },
      "source": [
        "<a href=\"https://colab.research.google.com/github/tijanavukovic1/Realistic-Image-Generation/blob/master/generisanje_baze.ipynb\" target=\"_parent\"><img src=\"https://colab.research.google.com/assets/colab-badge.svg\" alt=\"Open In Colab\"/></a>"
      ]
    },
    {
      "cell_type": "code",
      "metadata": {
        "id": "pMrUvbRJJfqr",
        "colab_type": "code",
        "colab": {
          "base_uri": "https://localhost:8080/",
          "height": 129
        },
        "outputId": "98422bcd-cb84-4849-c5f9-af97318f1ae8"
      },
      "source": [
        "from google.colab import drive\n",
        "drive.mount('/content/gdrive')"
      ],
      "execution_count": 1,
      "outputs": [
        {
          "output_type": "stream",
          "text": [
            "Go to this URL in a browser: https://accounts.google.com/o/oauth2/auth?client_id=947318989803-6bn6qk8qdgf4n4g3pfee6491hc0brc4i.apps.googleusercontent.com&redirect_uri=urn%3aietf%3awg%3aoauth%3a2.0%3aoob&scope=email%20https%3a%2f%2fwww.googleapis.com%2fauth%2fdocs.test%20https%3a%2f%2fwww.googleapis.com%2fauth%2fdrive%20https%3a%2f%2fwww.googleapis.com%2fauth%2fdrive.photos.readonly%20https%3a%2f%2fwww.googleapis.com%2fauth%2fpeopleapi.readonly&response_type=code\n",
            "\n",
            "Enter your authorization code:\n",
            "··········\n",
            "Mounted at /content/gdrive\n"
          ],
          "name": "stdout"
        }
      ]
    },
    {
      "cell_type": "code",
      "metadata": {
        "id": "QqDjNKfjJlIH",
        "colab_type": "code",
        "colab": {
          "base_uri": "https://localhost:8080/",
          "height": 54
        },
        "outputId": "80733433-f929-420d-c8c2-86475bde19ec"
      },
      "source": [
        "%cd gdrive/My Drive/PSIML PROJEKAT/data-efficient-gans-master/DiffAugment-biggan-cifar"
      ],
      "execution_count": 2,
      "outputs": [
        {
          "output_type": "stream",
          "text": [
            "[Errno 2] No such file or directory: 'gdrive/My Drive/PSIML PROJEKAT/data-efficient-gans-master/DiffAugment-biggan-cifar'\n",
            "/content\n"
          ],
          "name": "stdout"
        }
      ]
    },
    {
      "cell_type": "code",
      "metadata": {
        "id": "3kAG71bgJmxL",
        "colab_type": "code",
        "colab": {
          "base_uri": "https://localhost:8080/",
          "height": 246
        },
        "outputId": "17f69928-0c8d-46bf-9621-ef496a6cbbe9"
      },
      "source": [
        "import os\n",
        "import shutil\n",
        "import glob\n",
        "import random\n",
        "import PIL\n",
        "from PIL import Image\n",
        "import cv2\n",
        "path = 'data/baza_bez_200'\n",
        "\n",
        "\n",
        "ct=1\n",
        "for filename1 in os.listdir(path):\n",
        "    print(filename1)\n",
        "    count=1    \n",
        "    if(filename1!='resize'):\n",
        "        to_be_moved = random.sample(glob.glob(path+'/'+filename1+'/*.jpg'), 1000)\n",
        "        ct=1\n",
        "        for f in enumerate(to_be_moved):\n",
        "            im = Image.open(f[1])\n",
        "            im.save('data/test/'+filename1+'/'+str(ct)+'.jpg') #\n",
        "            os.remove(f[1])\n",
        "            ct+=1\n",
        "        ct=1\n",
        "        to_be_moved = random.sample(glob.glob(path+'/'+filename1+'/*.jpg'), 200)\n",
        "        for f in enumerate(to_be_moved):\n",
        "            im = Image.open(f[1])\n",
        "            im.save('data/val/'+filename1+'/'+str(ct)+'.jpg') #\n",
        "            os.remove(f[1])\n",
        "            ct+=1"
      ],
      "execution_count": 3,
      "outputs": [
        {
          "output_type": "error",
          "ename": "FileNotFoundError",
          "evalue": "ignored",
          "traceback": [
            "\u001b[0;31m---------------------------------------------------------------------------\u001b[0m",
            "\u001b[0;31mFileNotFoundError\u001b[0m                         Traceback (most recent call last)",
            "\u001b[0;32m<ipython-input-3-180394fac826>\u001b[0m in \u001b[0;36m<module>\u001b[0;34m()\u001b[0m\n\u001b[1;32m     10\u001b[0m \u001b[0;34m\u001b[0m\u001b[0m\n\u001b[1;32m     11\u001b[0m \u001b[0mct\u001b[0m\u001b[0;34m=\u001b[0m\u001b[0;36m1\u001b[0m\u001b[0;34m\u001b[0m\u001b[0;34m\u001b[0m\u001b[0m\n\u001b[0;32m---> 12\u001b[0;31m \u001b[0;32mfor\u001b[0m \u001b[0mfilename1\u001b[0m \u001b[0;32min\u001b[0m \u001b[0mos\u001b[0m\u001b[0;34m.\u001b[0m\u001b[0mlistdir\u001b[0m\u001b[0;34m(\u001b[0m\u001b[0mpath\u001b[0m\u001b[0;34m)\u001b[0m\u001b[0;34m:\u001b[0m\u001b[0;34m\u001b[0m\u001b[0;34m\u001b[0m\u001b[0m\n\u001b[0m\u001b[1;32m     13\u001b[0m     \u001b[0mprint\u001b[0m\u001b[0;34m(\u001b[0m\u001b[0mfilename1\u001b[0m\u001b[0;34m)\u001b[0m\u001b[0;34m\u001b[0m\u001b[0;34m\u001b[0m\u001b[0m\n\u001b[1;32m     14\u001b[0m     \u001b[0mcount\u001b[0m\u001b[0;34m=\u001b[0m\u001b[0;36m1\u001b[0m\u001b[0;34m\u001b[0m\u001b[0;34m\u001b[0m\u001b[0m\n",
            "\u001b[0;31mFileNotFoundError\u001b[0m: [Errno 2] No such file or directory: 'data/baza_bez_200'"
          ]
        }
      ]
    },
    {
      "cell_type": "code",
      "metadata": {
        "id": "zKmDsRIOMXS1",
        "colab_type": "code",
        "colab": {}
      },
      "source": [
        "import os\n",
        "import shutil\n",
        "import glob\n",
        "import random\n",
        "import PIL\n",
        "from PIL import Image\n",
        "import cv2\n",
        "path = 'data/baza_bez_200'\n",
        "\n",
        "\n",
        "ct=1000\n",
        "for filename1 in os.listdir(path):\n",
        "    print(filename1)\n",
        "    count=1    \n",
        "    if(filename1!='resize'):\n",
        "        to_be_moved = random.sample(glob.glob(path+'/'+filename1+'/*.jpg'), 800)\n",
        "        for f in enumerate(to_be_moved):\n",
        "            im = Image.open(f[1])\n",
        "            im.save('data/val_cela_baza/'+filename1+'/'+str(ct)+'.jpg') #\n",
        "            os.remove(f[1])\n",
        "            ct+=1"
      ],
      "execution_count": null,
      "outputs": []
    },
    {
      "cell_type": "code",
      "metadata": {
        "id": "wrXKRu7YXQMH",
        "colab_type": "code",
        "colab": {}
      },
      "source": [
        "import os\n",
        "import shutil\n",
        "import glob\n",
        "import random\n",
        "import PIL\n",
        "from PIL import Image\n",
        "import cv2\n",
        "path = 'data/baza_200+4000vestackih'\n",
        "\n",
        "\n",
        "for filename1 in os.listdir(path):\n",
        "  if(filename1=='wild'):\n",
        "    print(filename1)\n",
        "    if(filename1=='dog'):\n",
        "      ct=201\n",
        "    elif(filename1=='cat'):\n",
        "      ct=1\n",
        "    elif(filename1=='wild'):\n",
        "      ct=401\n",
        "    for filename in glob.glob(path+'/'+filename1+'/*.jpg'):\n",
        "      # print(filename)\n",
        "        # to_be_moved = random.sample(glob.glob(path+'/'+filename1+'/*.jpg'), 800)\n",
        "        # for f in enumerate(to_be_moved):\n",
        "    # im = Image.open(filename)\n",
        "      os.rename('data/baza_200+4000vestackih/'+filename1+'/'+str(ct)+'.jpg', 'data/baza_200+4000vestackih/'+filename1+'/'+str(ct)+'a'+'.jpg')\n",
        "    # # im.save('data/baza_200+800original/'+filename1+'/'+str(ct)+'.jpg') #\n",
        "    # # os.remove(f[1])\n",
        "      ct+=1"
      ],
      "execution_count": null,
      "outputs": []
    },
    {
      "cell_type": "code",
      "metadata": {
        "id": "uBUcZgVefiw1",
        "colab_type": "code",
        "colab": {}
      },
      "source": [
        "import imageio\n",
        "import os\n",
        "\n",
        "folder = 'for_GIF' \n",
        "files = [f\"{folder}/{file}\" for file in os.listdir(folder)]\n",
        "\n",
        "images = [imageio.imread(file) for file in files]\n",
        "imageio.mimwrite('movie.gif', images, fps=1.5)"
      ],
      "execution_count": null,
      "outputs": []
    },
    {
      "cell_type": "code",
      "metadata": {
        "id": "t8SVsq2nAmZN",
        "colab_type": "code",
        "colab": {}
      },
      "source": [
        "import numpy as np\n",
        "import matplotlib.pyplot as plt\n",
        "\n",
        "# data to plot\n",
        "n_groups = 1\n",
        "means_frank = (61.55) #,61.55\n",
        "means_guido = (229.19) #,229.19\n",
        "\n",
        "# create plot\n",
        "fig, ax = plt.subplots()\n",
        "index = np.arange(n_groups)\n",
        "bar_width = 0.35\n",
        "opacity = 0.8\n",
        "\n",
        "rects1 = plt.bar(index, means_frank, bar_width,\n",
        "alpha=opacity,\n",
        "color='b',\n",
        "label='With Augmentation')\n",
        "\n",
        "rects2 = plt.bar(index + bar_width, means_guido, bar_width,\n",
        "alpha=opacity,\n",
        "color='g',\n",
        "label='Without augmentation')\n",
        "\n",
        "def autolabel(rects):\n",
        "    \"\"\"\n",
        "    Attach a text label above each bar displaying its height\n",
        "    \"\"\"\n",
        "    for rect in rects:\n",
        "        height = rect.get_height()\n",
        "        print(height)\n",
        "        ax.text(rect.get_x() + rect.get_width()/2., 1.0*height,\n",
        "                  height,\n",
        "                ha='center', va='bottom')\n",
        "\n",
        "autolabel(rects1)\n",
        "autolabel(rects2)\n",
        "# fig, axs = plt.subplots(1,2)\n",
        "# fig.suptitle('Vertically stacked subplots')\n",
        "# axs[0].plot(x, y)\n",
        "# axs[1].plot(x, -y)\n",
        "plt.xlabel('Augmentation')\n",
        "plt.ylabel('FID')\n",
        "plt.title('FID for with or without augmentation')\n",
        "# plt.xticks(index + bar_width, ('Inception score', 'FID'))\n",
        "plt.legend()\n",
        "\n",
        "plt.tight_layout()\n",
        "plt.show()"
      ],
      "execution_count": null,
      "outputs": []
    },
    {
      "cell_type": "code",
      "metadata": {
        "id": "FOy_RYK0ihBy",
        "colab_type": "code",
        "colab": {}
      },
      "source": [
        ""
      ],
      "execution_count": null,
      "outputs": []
    }
  ]
}